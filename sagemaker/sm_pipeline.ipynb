{
 "cells": [
  {
   "cell_type": "code",
   "execution_count": 8,
   "metadata": {},
   "outputs": [],
   "source": [
    "import os \n",
    "import time \n",
    "import boto3\n",
    "import logging \n",
    "import sagemaker\n",
    "import numpy as np\n",
    "import pandas as pd\n",
    "from smexperiments.trial import Trial\n",
    "from smexperiments.experiment import Experiment \n"
   ]
  },
  {
   "cell_type": "code",
   "execution_count": 9,
   "metadata": {},
   "outputs": [],
   "source": [
    "from smexperiments.tracker import Tracker\n",
    "from sagemaker.analytics import ExperimentAnalytics\n",
    "from smexperiments.trial_component import TrialComponent"
   ]
  },
  {
   "cell_type": "code",
   "execution_count": null,
   "metadata": {},
   "outputs": [],
   "source": [
    "sess = sagemaker.Session()\n",
    "bucket = 'sagemaker-practice-bucket-nuga'\n",
    "region = sess.boto_session.region_name\n",
    "sm = boto3.Session().client(service_name='sagemaker', region_name=region)"
   ]
  },
  {
   "cell_type": "code",
   "execution_count": 26,
   "metadata": {},
   "outputs": [],
   "source": [
    "role = 'arn:aws:iam::928389782162:role/service-role/AmazonSageMaker-ExecutionRole-20230807T162115'"
   ]
  },
  {
   "cell_type": "markdown",
   "metadata": {},
   "source": [
    "##### TRACK EXPERIMENTS"
   ]
  },
  {
   "cell_type": "code",
   "execution_count": 11,
   "metadata": {},
   "outputs": [
    {
     "data": {
      "text/plain": [
       "'FITNESS-PROJECT-1698176833'"
      ]
     },
     "execution_count": 11,
     "metadata": {},
     "output_type": "execute_result"
    }
   ],
   "source": [
    "timestamp = int(time.time())\n",
    "pipeline_name = f'FITNESS-PROJECT-{timestamp}'\n",
    "pipeline_name"
   ]
  },
  {
   "cell_type": "code",
   "execution_count": 12,
   "metadata": {},
   "outputs": [],
   "source": [
    "experiment = Experiment.create(\n",
    "    experiment_name=pipeline_name,\n",
    "    description='Testing sagemaker pipeline',\n",
    "    sagemaker_boto_client=sm\n",
    ")\n",
    "\n",
    "trial = Trial.create(\n",
    "    trial_name=f'trial-{timestamp}',\n",
    "    experiment_name=pipeline_name,\n",
    "    sagemaker_boto_client=sm\n",
    ")"
   ]
  },
  {
   "cell_type": "code",
   "execution_count": 13,
   "metadata": {},
   "outputs": [],
   "source": [
    "experiment_config_process = {\n",
    "    'ExperimentName': pipeline_name,\n",
    "    'TrialName': trial.trial_name,\n",
    "    'TrialComponentDisplayName': 'Process'\n",
    "}\n",
    "\n",
    "experiment_config_train = {\n",
    "    'ExperimentName': pipeline_name,\n",
    "    'TrialName': trial.trial_name,\n",
    "    'TrialComponentDisplayName': 'Train'\n",
    "}\n",
    "\n",
    "experiment_config_evaluate = {\n",
    "    'ExperimentName': pipeline_name,\n",
    "    'TrialName': trial.trial_name,\n",
    "    'TrialComponentDisplayName': 'Evaluate'\n",
    "}\n",
    "\n",
    "experiment_config_register_model = {\n",
    "    'ExperimentName': pipeline_name,\n",
    "    'TrialName': trial.trial_name,\n",
    "    'TrialComponentDisplayName': 'Register Model'\n",
    "}"
   ]
  },
  {
   "cell_type": "code",
   "execution_count": 20,
   "metadata": {},
   "outputs": [],
   "source": [
    "s3_input_data_uri = f's3://{bucket}/fitness_project/data/'"
   ]
  },
  {
   "cell_type": "code",
   "execution_count": 21,
   "metadata": {},
   "outputs": [
    {
     "name": "stdout",
     "output_type": "stream",
     "text": [
      "2023-10-24 20:44:05      48039 fitness_class_2212.csv\n"
     ]
    }
   ],
   "source": [
    "!aws s3 ls $s3_input_data_uri"
   ]
  },
  {
   "cell_type": "markdown",
   "metadata": {},
   "source": [
    "##### PARAMETERIZWE PIPELINE EXECUTION"
   ]
  },
  {
   "cell_type": "code",
   "execution_count": 22,
   "metadata": {},
   "outputs": [],
   "source": [
    "from sagemaker.workflow.parameters import (\n",
    "    ParameterInteger,\n",
    "    ParameterString,\n",
    "    ParameterFloat\n",
    ")"
   ]
  },
  {
   "cell_type": "code",
   "execution_count": 23,
   "metadata": {},
   "outputs": [],
   "source": [
    "exp_name = ParameterString(\n",
    "    name='ExperimentName',\n",
    "    default_value=pipeline_name\n",
    ")\n",
    "\n",
    "input_data = ParameterString(\n",
    "    name='InputData',\n",
    "    default_value=s3_input_data_uri\n",
    ")\n",
    "\n",
    "instance_type = ParameterString(\n",
    "    name='InstanceType',\n",
    "    default_value='ml.t3.medium'\n",
    ")\n",
    "\n",
    "instance_count = ParameterInteger(\n",
    "    name='InstanceCount',\n",
    "    default_value=1\n",
    ")\n"
   ]
  },
  {
   "cell_type": "markdown",
   "metadata": {},
   "source": [
    "##### PROCESSSING STEP"
   ]
  },
  {
   "cell_type": "code",
   "execution_count": 28,
   "metadata": {},
   "outputs": [],
   "source": [
    "from sagemaker.workflow.steps import ProcessingStep\n",
    "from sagemaker.sklearn.processing import SKLearnProcessor\n",
    "from sagemaker.processing import ProcessingInput, ProcessingOutput"
   ]
  },
  {
   "cell_type": "code",
   "execution_count": 33,
   "metadata": {},
   "outputs": [
    {
     "name": "stderr",
     "output_type": "stream",
     "text": [
      "INFO:botocore.credentials:Found credentials in environment variables.\n"
     ]
    },
    {
     "name": "stdout",
     "output_type": "stream",
     "text": [
      "sagemaker.config INFO - Not applying SDK defaults from location: /Library/Application Support/sagemaker/config.yaml\n",
      "sagemaker.config INFO - Not applying SDK defaults from location: /Users/Labi/Library/Application Support/sagemaker/config.yaml\n"
     ]
    },
    {
     "name": "stderr",
     "output_type": "stream",
     "text": [
      "WARNING:sagemaker.workflow.utilities:The input argument instance_type of function (sagemaker.image_uris.retrieve) is a pipeline variable (<class 'sagemaker.workflow.parameters.ParameterString'>), which is interpreted in pipeline execution time only. As the function needs to evaluate the argument value in SDK compile time, the default_value of this Parameter object will be used to override it. Please make sure the default_value is valid.\n",
      "INFO:sagemaker.image_uris:Defaulting to only available Python version: py3\n"
     ]
    }
   ],
   "source": [
    "processor = SKLearnProcessor(\n",
    "    framework_version='0.23-1',\n",
    "    role=role,\n",
    "    instance_type=instance_type,\n",
    "    instance_count=instance_count,\n",
    "    env={'AWS_DEFAULT_REGION':region}    \n",
    ")\n",
    "\n",
    "input_data = [\n",
    "    ProcessingInput(\n",
    "    input_name='input_data', \n",
    "    source=s3_input_data_uri,  \n",
    "    destination='/opt/ml/processing/input'\n",
    ")\n",
    "]\n",
    "\n",
    "output_data = [\n",
    "    ProcessingOutput(\n",
    "    source='/opt/ml/processing/output/train',  \n",
    "    destination=s3_input_data_uri,  \n",
    "    output_name='output_data' \n",
    "),\n",
    "    ProcessingOutput(\n",
    "        source='/opt/ml/processing/output/test',  \n",
    "        destination=s3_input_data_uri,  \n",
    "        output_name='output_data' \n",
    "    )\n",
    "]"
   ]
  },
  {
   "cell_type": "code",
   "execution_count": 34,
   "metadata": {},
   "outputs": [
    {
     "data": {
      "text/plain": [
       "ProcessingStep(name='ProcessingStep', display_name=None, description=None, step_type=<StepTypeEnum.PROCESSING: 'Processing'>, depends_on=None)"
      ]
     },
     "execution_count": 34,
     "metadata": {},
     "output_type": "execute_result"
    }
   ],
   "source": [
    "processing_step = ProcessingStep(\n",
    "    name='ProcessingStep',\n",
    "    code='preprocess_script.py', \n",
    "    processor=processor,\n",
    "    inputs=input_data,\n",
    "    outputs=output_data,\n",
    "    # job_arguments=['--input-data', '/opt/ml/processing/input', '--output-data', '/opt/ml/processing/output']\n",
    ")\n",
    "processing_step"
   ]
  },
  {
   "cell_type": "markdown",
   "metadata": {},
   "source": [
    "##### TRAINING STEP"
   ]
  },
  {
   "cell_type": "code",
   "execution_count": null,
   "metadata": {},
   "outputs": [],
   "source": [
    "metrics_definition = {\n",
    "    'Name': \n",
    "}"
   ]
  },
  {
   "cell_type": "code",
   "execution_count": null,
   "metadata": {},
   "outputs": [],
   "source": []
  },
  {
   "cell_type": "code",
   "execution_count": null,
   "metadata": {},
   "outputs": [],
   "source": []
  },
  {
   "cell_type": "code",
   "execution_count": null,
   "metadata": {},
   "outputs": [],
   "source": []
  },
  {
   "cell_type": "code",
   "execution_count": null,
   "metadata": {},
   "outputs": [],
   "source": []
  }
 ],
 "metadata": {
  "kernelspec": {
   "display_name": "env-I1MV0Xfu",
   "language": "python",
   "name": "python3"
  },
  "language_info": {
   "codemirror_mode": {
    "name": "ipython",
    "version": 3
   },
   "file_extension": ".py",
   "mimetype": "text/x-python",
   "name": "python",
   "nbconvert_exporter": "python",
   "pygments_lexer": "ipython3",
   "version": "3.9.12"
  }
 },
 "nbformat": 4,
 "nbformat_minor": 2
}
