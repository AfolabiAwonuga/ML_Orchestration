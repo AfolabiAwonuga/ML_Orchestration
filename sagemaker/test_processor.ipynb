{
 "cells": [
  {
   "cell_type": "code",
   "execution_count": 1,
   "metadata": {},
   "outputs": [
    {
     "name": "stdout",
     "output_type": "stream",
     "text": [
      "sagemaker.config INFO - Not applying SDK defaults from location: /Library/Application Support/sagemaker/config.yaml\n",
      "sagemaker.config INFO - Not applying SDK defaults from location: /Users/Labi/Library/Application Support/sagemaker/config.yaml\n"
     ]
    },
    {
     "data": {
      "text/plain": [
       "True"
      ]
     },
     "execution_count": 1,
     "metadata": {},
     "output_type": "execute_result"
    }
   ],
   "source": [
    "import os \n",
    "import glob\n",
    "import boto3\n",
    "import sagemaker\n",
    "from dotenv import load_dotenv\n",
    "from time import strftime\n",
    "from sagemaker import get_execution_role, image_uris\n",
    "from sagemaker.sklearn.processing import SKLearnProcessor\n",
    "from sagemaker.processing import ProcessingInput, ProcessingOutput, Processor\n",
    "load_dotenv()\n"
   ]
  },
  {
   "cell_type": "code",
   "execution_count": 2,
   "metadata": {},
   "outputs": [],
   "source": [
    "import time\n",
    "from sagemaker.workflow.parameters import (\n",
    "    ParameterInteger,\n",
    "    ParameterString,\n",
    "    ParameterFloat\n",
    ")"
   ]
  },
  {
   "cell_type": "code",
   "execution_count": 3,
   "metadata": {},
   "outputs": [
    {
     "name": "stdout",
     "output_type": "stream",
     "text": [
      "sagemaker.config INFO - Not applying SDK defaults from location: /Library/Application Support/sagemaker/config.yaml\n",
      "sagemaker.config INFO - Not applying SDK defaults from location: /Users/Labi/Library/Application Support/sagemaker/config.yaml\n"
     ]
    }
   ],
   "source": [
    "sess = sagemaker.Session()\n",
    "bucket = 'sagemaker-practice-bucket-nuga'\n",
    "role = os.environ['SM_ROLE']\n",
    "region = sess.boto_session.region_name\n",
    "sm = boto3.Session().client(service_name='sagemaker', region_name=region)"
   ]
  },
  {
   "cell_type": "code",
   "execution_count": 66,
   "metadata": {},
   "outputs": [
    {
     "data": {
      "text/plain": [
       "'s3://sagemaker-practice-bucket-nuga/fitness_project/code/preprocess_script.py'"
      ]
     },
     "execution_count": 66,
     "metadata": {},
     "output_type": "execute_result"
    }
   ],
   "source": [
    "sess.upload_data(\n",
    "    path='preprocess_script.py',\n",
    "    bucket=bucket,\n",
    "    key_prefix='fitness_project/code'\n",
    ")"
   ]
  },
  {
   "cell_type": "markdown",
   "metadata": {},
   "source": [
    "##### ENV PARAMETERS"
   ]
  },
  {
   "cell_type": "code",
   "execution_count": 10,
   "metadata": {},
   "outputs": [
    {
     "name": "stdout",
     "output_type": "stream",
     "text": [
      "2023-06-25 20:53:00 kinesisbucketnugatest\n",
      "2023-10-24 18:08:11 sagemaker-eu-north-1-928389782162\n",
      "2023-08-07 16:10:59 sagemaker-practice-bucket-nuga\n",
      "2023-08-07 16:32:15 sagemaker-studio-v9s6knew9ua\n",
      "2023-08-07 16:22:16 sagemaker-studio-xv6zxh7iw6m\n",
      "2023-08-07 16:35:19 sagemaker-us-east-1-928389782162\n"
     ]
    }
   ],
   "source": [
    "!aws s3 ls "
   ]
  },
  {
   "cell_type": "code",
   "execution_count": 39,
   "metadata": {},
   "outputs": [],
   "source": [
    "container_base_path = \"/opt/ml/processing\"\n",
    "s3_input_data_uri = f\"s3://{bucket}/fitness_project/data/fitness_class_2212.csv\"\n",
    "data_output_path = f\"s3://{bucket}/fitness_project/data\""
   ]
  },
  {
   "cell_type": "code",
   "execution_count": 40,
   "metadata": {},
   "outputs": [],
   "source": [
    "code_uri = f\"s3://{bucket}/fitness_project/code/preprocess_script.py\""
   ]
  },
  {
   "cell_type": "code",
   "execution_count": null,
   "metadata": {},
   "outputs": [],
   "source": []
  },
  {
   "cell_type": "code",
   "execution_count": 41,
   "metadata": {},
   "outputs": [],
   "source": [
    "# exp_name = ParameterString(\n",
    "#     name='ExperimentName',\n",
    "#     default_value=pipeline_name\n",
    "# )\n",
    "\n",
    "# input_data = ParameterString(\n",
    "#     name='InputData',\n",
    "#     default_value=s3_input_data_uri\n",
    "# )\n",
    "\n",
    "instance_type = ParameterString(\n",
    "    name='InstanceType',\n",
    "    default_value='ml.t3.medium'\n",
    ")\n",
    "\n",
    "instance_count = ParameterInteger(\n",
    "    name='InstanceCount',\n",
    "    default_value=1\n",
    ")"
   ]
  },
  {
   "cell_type": "code",
   "execution_count": 67,
   "metadata": {},
   "outputs": [
    {
     "name": "stderr",
     "output_type": "stream",
     "text": [
      "INFO:botocore.credentials:Found credentials in environment variables.\n"
     ]
    },
    {
     "name": "stdout",
     "output_type": "stream",
     "text": [
      "sagemaker.config INFO - Not applying SDK defaults from location: /Library/Application Support/sagemaker/config.yaml\n",
      "sagemaker.config INFO - Not applying SDK defaults from location: /Users/Labi/Library/Application Support/sagemaker/config.yaml\n"
     ]
    },
    {
     "name": "stderr",
     "output_type": "stream",
     "text": [
      "INFO:sagemaker.image_uris:Defaulting to only available Python version: py3\n"
     ]
    }
   ],
   "source": [
    "processor = SKLearnProcessor(\n",
    "    framework_version='0.23-1',\n",
    "    role=role,\n",
    "    instance_type='ml.t3.medium',\n",
    "    instance_count=1,\n",
    "    env={'AWS_DEFAULT_REGION':region}    \n",
    ")\n",
    "\n",
    "input_data = [\n",
    "    ProcessingInput(\n",
    "    input_name='input_data', \n",
    "    source=s3_input_data_uri,  \n",
    "    destination=f'{container_base_path}/data'\n",
    "),\n",
    "    ProcessingInput(\n",
    "    input_name='input_code', \n",
    "    source=code_uri,  \n",
    "    destination=f'{container_base_path}/code'\n",
    ")\n",
    "]\n",
    "\n",
    "output_data = [\n",
    "    ProcessingOutput(\n",
    "    source=f'{container_base_path}/train',  \n",
    "    destination=f'{data_output_path}/train',  \n",
    "    output_name='output_train_data' \n",
    "),\n",
    "    ProcessingOutput(\n",
    "    source=f'{container_base_path}/test',  \n",
    "    destination=f'{data_output_path}/test',  \n",
    "    output_name='output_test_data' \n",
    ")\n",
    "]"
   ]
  },
  {
   "cell_type": "code",
   "execution_count": 50,
   "metadata": {},
   "outputs": [
    {
     "name": "stderr",
     "output_type": "stream",
     "text": [
      "INFO:sagemaker:Creating processing-job with name test-processor1698243078\n"
     ]
    },
    {
     "name": "stdout",
     "output_type": "stream",
     "text": [
      "................................................................sagemaker\n",
      "\n"
     ]
    }
   ],
   "source": [
    "processor.run(\n",
    "    job_name=f'test-processor{int(time.time())}',\n",
    "    code='preprocess_script.py',\n",
    "    inputs=input_data,\n",
    "    outputs=output_data,\n",
    "    arguments=['--sagemaker']\n",
    ")"
   ]
  },
  {
   "cell_type": "code",
   "execution_count": 60,
   "metadata": {},
   "outputs": [
    {
     "data": {
      "text/plain": [
       "'s3://sagemaker-practice-bucket-nuga/fitness_project/data/train'"
      ]
     },
     "execution_count": 60,
     "metadata": {},
     "output_type": "execute_result"
    }
   ],
   "source": [
    "processor.jobs[-1].describe()['ProcessingOutputConfig']['Outputs'][0]['S3Output']['S3Uri']"
   ]
  },
  {
   "cell_type": "markdown",
   "metadata": {},
   "source": [
    "##### TRACKING "
   ]
  },
  {
   "cell_type": "code",
   "execution_count": 4,
   "metadata": {},
   "outputs": [],
   "source": [
    "import smexperiments\n",
    "from smexperiments.trial import Trial\n",
    "from smexperiments.tracker import Tracker\n",
    "from smexperiments.experiment import Experiment\n",
    "from smexperiments.trial_component import TrialComponent"
   ]
  },
  {
   "cell_type": "code",
   "execution_count": 42,
   "metadata": {},
   "outputs": [],
   "source": [
    "experiment = Experiment.create(\n",
    "    experiment_name=f'test-training-{int(time.time())}',\n",
    "    description='Testing SKLearnProcessor',\n",
    "    sagemaker_boto_client=sm\n",
    ")\n",
    "\n",
    "# trial = Trial.create(\n",
    "#     trial_name=f'trial-{timestamp}',\n",
    "#     experiment_name=pipeline_name,\n",
    "#     sagemaker_boto_client=sm\n",
    "# )"
   ]
  },
  {
   "cell_type": "code",
   "execution_count": null,
   "metadata": {},
   "outputs": [],
   "source": [
    "experiment_config_process = {\n",
    "    'ExperimentName': pipeline_name,\n",
    "    'TrialName': trial.trial_name,\n",
    "    'TrialComponentDisplayName': 'Process'\n",
    "}"
   ]
  },
  {
   "cell_type": "code",
   "execution_count": 43,
   "metadata": {},
   "outputs": [
    {
     "data": {
      "text/plain": [
       "'test-training-1698283047'"
      ]
     },
     "execution_count": 43,
     "metadata": {},
     "output_type": "execute_result"
    }
   ],
   "source": [
    "experiment.experiment_name"
   ]
  },
  {
   "cell_type": "code",
   "execution_count": 69,
   "metadata": {},
   "outputs": [
    {
     "name": "stderr",
     "output_type": "stream",
     "text": [
      "INFO:sagemaker:Creating processing-job with name test-processor1698245401\n"
     ]
    },
    {
     "name": "stdout",
     "output_type": "stream",
     "text": [
      ".........................................................................sagemaker\n",
      "\n"
     ]
    },
    {
     "name": "stderr",
     "output_type": "stream",
     "text": [
      "INFO:sagemaker:Creating processing-job with name test-processor1698246228\n"
     ]
    },
    {
     "name": "stdout",
     "output_type": "stream",
     "text": [
      "..................................................................\n",
      "sagemaker\n"
     ]
    },
    {
     "name": "stderr",
     "output_type": "stream",
     "text": [
      "INFO:sagemaker:Creating processing-job with name test-processor1698246950\n"
     ]
    },
    {
     "name": "stdout",
     "output_type": "stream",
     "text": [
      "........................................................................\n",
      "sagemaker\n"
     ]
    }
   ],
   "source": [
    "for ratio in ['0.1', '0.2', '0.3']:\n",
    "    \n",
    "    trial = Trial.create(\n",
    "    trial_name=f'trial-{int(time.time())}',\n",
    "    experiment_name=experiment.experiment_name,\n",
    "    sagemaker_boto_client=sm\n",
    ")\n",
    "    processor.run(\n",
    "    job_name=f'test-processor{int(time.time())}',\n",
    "    code='preprocess_script.py',\n",
    "    inputs=input_data,\n",
    "    outputs=output_data,\n",
    "    arguments=[\n",
    "        '--sagemaker',\n",
    "        '--ratio',\n",
    "        ratio\n",
    "    ],\n",
    "    experiment_config={\n",
    "    'TrialName': trial.trial_name,\n",
    "    'TrialComponentDisplayName': 'Process'\n",
    "}\n",
    ")\n",
    "    \n"
   ]
  },
  {
   "cell_type": "code",
   "execution_count": 17,
   "metadata": {},
   "outputs": [],
   "source": [
    "from sagemaker.analytics import ExperimentAnalytics"
   ]
  },
  {
   "cell_type": "code",
   "execution_count": 71,
   "metadata": {},
   "outputs": [
    {
     "name": "stderr",
     "output_type": "stream",
     "text": [
      "INFO:botocore.credentials:Found credentials in environment variables.\n"
     ]
    },
    {
     "name": "stdout",
     "output_type": "stream",
     "text": [
      "sagemaker.config INFO - Not applying SDK defaults from location: /Library/Application Support/sagemaker/config.yaml\n",
      "sagemaker.config INFO - Not applying SDK defaults from location: /Users/Labi/Library/Application Support/sagemaker/config.yaml\n"
     ]
    },
    {
     "data": {
      "text/html": [
       "<div>\n",
       "<style scoped>\n",
       "    .dataframe tbody tr th:only-of-type {\n",
       "        vertical-align: middle;\n",
       "    }\n",
       "\n",
       "    .dataframe tbody tr th {\n",
       "        vertical-align: top;\n",
       "    }\n",
       "\n",
       "    .dataframe thead th {\n",
       "        text-align: right;\n",
       "    }\n",
       "</style>\n",
       "<table border=\"1\" class=\"dataframe\">\n",
       "  <thead>\n",
       "    <tr style=\"text-align: right;\">\n",
       "      <th></th>\n",
       "      <th>TrialComponentName</th>\n",
       "      <th>DisplayName</th>\n",
       "      <th>SourceArn</th>\n",
       "      <th>AWS_DEFAULT_REGION</th>\n",
       "      <th>SageMaker.InstanceCount</th>\n",
       "      <th>SageMaker.InstanceType</th>\n",
       "      <th>SageMaker.VolumeSizeInGB</th>\n",
       "      <th>SageMaker.ImageUri - MediaType</th>\n",
       "      <th>SageMaker.ImageUri - Value</th>\n",
       "      <th>code - MediaType</th>\n",
       "      <th>...</th>\n",
       "      <th>input_code - MediaType</th>\n",
       "      <th>input_code - Value</th>\n",
       "      <th>input_data - MediaType</th>\n",
       "      <th>input_data - Value</th>\n",
       "      <th>output_test_data - MediaType</th>\n",
       "      <th>output_test_data - Value</th>\n",
       "      <th>output_train_data - MediaType</th>\n",
       "      <th>output_train_data - Value</th>\n",
       "      <th>Trials</th>\n",
       "      <th>Experiments</th>\n",
       "    </tr>\n",
       "  </thead>\n",
       "  <tbody>\n",
       "    <tr>\n",
       "      <th>0</th>\n",
       "      <td>test-processor1698246950-aws-processing-job</td>\n",
       "      <td>Process</td>\n",
       "      <td>arn:aws:sagemaker:us-east-1:928389782162:proce...</td>\n",
       "      <td>us-east-1</td>\n",
       "      <td>1.0</td>\n",
       "      <td>ml.t3.medium</td>\n",
       "      <td>30.0</td>\n",
       "      <td>None</td>\n",
       "      <td>683313688378.dkr.ecr.us-east-1.amazonaws.com/s...</td>\n",
       "      <td>None</td>\n",
       "      <td>...</td>\n",
       "      <td>None</td>\n",
       "      <td>s3://sagemaker-practice-bucket-nuga/fitness_pr...</td>\n",
       "      <td>None</td>\n",
       "      <td>s3://sagemaker-practice-bucket-nuga/fitness_pr...</td>\n",
       "      <td>None</td>\n",
       "      <td>s3://sagemaker-practice-bucket-nuga/fitness_pr...</td>\n",
       "      <td>None</td>\n",
       "      <td>s3://sagemaker-practice-bucket-nuga/fitness_pr...</td>\n",
       "      <td>[trial-1698246949]</td>\n",
       "      <td>[test-processor-1698244803]</td>\n",
       "    </tr>\n",
       "    <tr>\n",
       "      <th>1</th>\n",
       "      <td>test-processor1698246228-aws-processing-job</td>\n",
       "      <td>Process</td>\n",
       "      <td>arn:aws:sagemaker:us-east-1:928389782162:proce...</td>\n",
       "      <td>us-east-1</td>\n",
       "      <td>1.0</td>\n",
       "      <td>ml.t3.medium</td>\n",
       "      <td>30.0</td>\n",
       "      <td>None</td>\n",
       "      <td>683313688378.dkr.ecr.us-east-1.amazonaws.com/s...</td>\n",
       "      <td>None</td>\n",
       "      <td>...</td>\n",
       "      <td>None</td>\n",
       "      <td>s3://sagemaker-practice-bucket-nuga/fitness_pr...</td>\n",
       "      <td>None</td>\n",
       "      <td>s3://sagemaker-practice-bucket-nuga/fitness_pr...</td>\n",
       "      <td>None</td>\n",
       "      <td>s3://sagemaker-practice-bucket-nuga/fitness_pr...</td>\n",
       "      <td>None</td>\n",
       "      <td>s3://sagemaker-practice-bucket-nuga/fitness_pr...</td>\n",
       "      <td>[trial-1698246228]</td>\n",
       "      <td>[test-processor-1698244803]</td>\n",
       "    </tr>\n",
       "    <tr>\n",
       "      <th>2</th>\n",
       "      <td>test-processor1698245401-aws-processing-job</td>\n",
       "      <td>Process</td>\n",
       "      <td>arn:aws:sagemaker:us-east-1:928389782162:proce...</td>\n",
       "      <td>us-east-1</td>\n",
       "      <td>1.0</td>\n",
       "      <td>ml.t3.medium</td>\n",
       "      <td>30.0</td>\n",
       "      <td>None</td>\n",
       "      <td>683313688378.dkr.ecr.us-east-1.amazonaws.com/s...</td>\n",
       "      <td>None</td>\n",
       "      <td>...</td>\n",
       "      <td>None</td>\n",
       "      <td>s3://sagemaker-practice-bucket-nuga/fitness_pr...</td>\n",
       "      <td>None</td>\n",
       "      <td>s3://sagemaker-practice-bucket-nuga/fitness_pr...</td>\n",
       "      <td>None</td>\n",
       "      <td>s3://sagemaker-practice-bucket-nuga/fitness_pr...</td>\n",
       "      <td>None</td>\n",
       "      <td>s3://sagemaker-practice-bucket-nuga/fitness_pr...</td>\n",
       "      <td>[trial-1698245401]</td>\n",
       "      <td>[test-processor-1698244803]</td>\n",
       "    </tr>\n",
       "  </tbody>\n",
       "</table>\n",
       "<p>3 rows × 21 columns</p>\n",
       "</div>"
      ],
      "text/plain": [
       "                            TrialComponentName DisplayName  \\\n",
       "0  test-processor1698246950-aws-processing-job     Process   \n",
       "1  test-processor1698246228-aws-processing-job     Process   \n",
       "2  test-processor1698245401-aws-processing-job     Process   \n",
       "\n",
       "                                           SourceArn AWS_DEFAULT_REGION  \\\n",
       "0  arn:aws:sagemaker:us-east-1:928389782162:proce...          us-east-1   \n",
       "1  arn:aws:sagemaker:us-east-1:928389782162:proce...          us-east-1   \n",
       "2  arn:aws:sagemaker:us-east-1:928389782162:proce...          us-east-1   \n",
       "\n",
       "   SageMaker.InstanceCount SageMaker.InstanceType  SageMaker.VolumeSizeInGB  \\\n",
       "0                      1.0           ml.t3.medium                      30.0   \n",
       "1                      1.0           ml.t3.medium                      30.0   \n",
       "2                      1.0           ml.t3.medium                      30.0   \n",
       "\n",
       "  SageMaker.ImageUri - MediaType  \\\n",
       "0                           None   \n",
       "1                           None   \n",
       "2                           None   \n",
       "\n",
       "                          SageMaker.ImageUri - Value code - MediaType  ...  \\\n",
       "0  683313688378.dkr.ecr.us-east-1.amazonaws.com/s...             None  ...   \n",
       "1  683313688378.dkr.ecr.us-east-1.amazonaws.com/s...             None  ...   \n",
       "2  683313688378.dkr.ecr.us-east-1.amazonaws.com/s...             None  ...   \n",
       "\n",
       "  input_code - MediaType                                 input_code - Value  \\\n",
       "0                   None  s3://sagemaker-practice-bucket-nuga/fitness_pr...   \n",
       "1                   None  s3://sagemaker-practice-bucket-nuga/fitness_pr...   \n",
       "2                   None  s3://sagemaker-practice-bucket-nuga/fitness_pr...   \n",
       "\n",
       "  input_data - MediaType                                 input_data - Value  \\\n",
       "0                   None  s3://sagemaker-practice-bucket-nuga/fitness_pr...   \n",
       "1                   None  s3://sagemaker-practice-bucket-nuga/fitness_pr...   \n",
       "2                   None  s3://sagemaker-practice-bucket-nuga/fitness_pr...   \n",
       "\n",
       "  output_test_data - MediaType  \\\n",
       "0                         None   \n",
       "1                         None   \n",
       "2                         None   \n",
       "\n",
       "                            output_test_data - Value  \\\n",
       "0  s3://sagemaker-practice-bucket-nuga/fitness_pr...   \n",
       "1  s3://sagemaker-practice-bucket-nuga/fitness_pr...   \n",
       "2  s3://sagemaker-practice-bucket-nuga/fitness_pr...   \n",
       "\n",
       "  output_train_data - MediaType  \\\n",
       "0                          None   \n",
       "1                          None   \n",
       "2                          None   \n",
       "\n",
       "                           output_train_data - Value              Trials  \\\n",
       "0  s3://sagemaker-practice-bucket-nuga/fitness_pr...  [trial-1698246949]   \n",
       "1  s3://sagemaker-practice-bucket-nuga/fitness_pr...  [trial-1698246228]   \n",
       "2  s3://sagemaker-practice-bucket-nuga/fitness_pr...  [trial-1698245401]   \n",
       "\n",
       "                   Experiments  \n",
       "0  [test-processor-1698244803]  \n",
       "1  [test-processor-1698244803]  \n",
       "2  [test-processor-1698244803]  \n",
       "\n",
       "[3 rows x 21 columns]"
      ]
     },
     "execution_count": 71,
     "metadata": {},
     "output_type": "execute_result"
    }
   ],
   "source": [
    "experiment_analytics = ExperimentAnalytics(\n",
    "    experiment_name=experiment.experiment_name\n",
    ")\n",
    "experiment_analytics.dataframe()"
   ]
  },
  {
   "cell_type": "code",
   "execution_count": 7,
   "metadata": {},
   "outputs": [
    {
     "data": {
      "text/plain": [
       "'s3://sagemaker-practice-bucket-nuga/fitness_project/data/train'"
      ]
     },
     "execution_count": 7,
     "metadata": {},
     "output_type": "execute_result"
    }
   ],
   "source": [
    "# trainpath=processor.latest_job.describe()['ProcessingOutputConfig']['Outputs'][0]['S3Output']['S3Uri']\n",
    "trainpath='s3://sagemaker-practice-bucket-nuga/fitness_project/data/train'\n",
    "trainpath"
   ]
  },
  {
   "cell_type": "code",
   "execution_count": 8,
   "metadata": {},
   "outputs": [
    {
     "data": {
      "text/plain": [
       "'s3://sagemaker-practice-bucket-nuga/fitness_project/data/test'"
      ]
     },
     "execution_count": 8,
     "metadata": {},
     "output_type": "execute_result"
    }
   ],
   "source": [
    "# testpath=processor.latest_job.describe()['ProcessingOutputConfig']['Outputs'][1]['S3Output']['S3Uri']\n",
    "testpath='s3://sagemaker-practice-bucket-nuga/fitness_project/data/test'\n",
    "testpath"
   ]
  },
  {
   "cell_type": "markdown",
   "metadata": {},
   "source": [
    "##### TRAINING"
   ]
  },
  {
   "cell_type": "code",
   "execution_count": 9,
   "metadata": {},
   "outputs": [],
   "source": [
    "from sagemaker.sklearn.estimator import SKLearn"
   ]
  },
  {
   "cell_type": "code",
   "execution_count": 47,
   "metadata": {},
   "outputs": [
    {
     "data": {
      "text/plain": [
       "'s3://sagemaker-practice-bucket-nuga/fitness_project/code/training_script.py'"
      ]
     },
     "execution_count": 47,
     "metadata": {},
     "output_type": "execute_result"
    }
   ],
   "source": [
    "sess.upload_data(\n",
    "    path='training_script.py',\n",
    "    bucket=bucket,\n",
    "    key_prefix='fitness_project/code'\n",
    ")"
   ]
  },
  {
   "cell_type": "code",
   "execution_count": 153,
   "metadata": {},
   "outputs": [],
   "source": [
    "training_dir = f\"s3://{bucket}/fitness_project/code\""
   ]
  },
  {
   "cell_type": "code",
   "execution_count": 10,
   "metadata": {},
   "outputs": [],
   "source": [
    "metric_definition = [\n",
    "    {'Name': 'Accuracy', 'Regex': 'Accuracy: ([0-9\\\\.]+)'},\n",
    "    {'Name': 'Precision', 'Regex': 'Precision: ([0-9\\\\.]+)'},\n",
    "    {'Name': 'Recall', 'Regex': 'Recall: ([0-9\\\\.]+)'},\n",
    "    {'Name': 'F1', 'Regex': 'F1: ([0-9\\\\.]+)'}\n",
    "]"
   ]
  },
  {
   "cell_type": "code",
   "execution_count": 13,
   "metadata": {},
   "outputs": [],
   "source": [
    "inputs = {\n",
    "    \"train\": trainpath,\n",
    "    \"test\": testpath\n",
    "}"
   ]
  },
  {
   "cell_type": "code",
   "execution_count": 22,
   "metadata": {},
   "outputs": [],
   "source": [
    "trial = Trial.create(\n",
    "    trial_name=f'trial-{int(time.time())}',\n",
    "    experiment_name=experiment.experiment_name,\n",
    "    sagemaker_boto_client=sm\n",
    ")"
   ]
  },
  {
   "cell_type": "code",
   "execution_count": 23,
   "metadata": {},
   "outputs": [
    {
     "data": {
      "text/plain": [
       "'test-training-1698275683'"
      ]
     },
     "execution_count": 23,
     "metadata": {},
     "output_type": "execute_result"
    }
   ],
   "source": [
    "experiment.experiment_name"
   ]
  },
  {
   "cell_type": "code",
   "execution_count": 24,
   "metadata": {},
   "outputs": [],
   "source": [
    "from sagemaker.experiments import Run"
   ]
  },
  {
   "cell_type": "code",
   "execution_count": 48,
   "metadata": {},
   "outputs": [
    {
     "name": "stdout",
     "output_type": "stream",
     "text": [
      "sagemaker.config INFO - Not applying SDK defaults from location: /Library/Application Support/sagemaker/config.yaml\n",
      "sagemaker.config INFO - Not applying SDK defaults from location: /Users/Labi/Library/Application Support/sagemaker/config.yaml\n",
      "sagemaker.config INFO - Not applying SDK defaults from location: /Library/Application Support/sagemaker/config.yaml\n",
      "sagemaker.config INFO - Not applying SDK defaults from location: /Users/Labi/Library/Application Support/sagemaker/config.yaml\n",
      "Using provided s3_resource\n"
     ]
    },
    {
     "name": "stderr",
     "output_type": "stream",
     "text": [
      "INFO:sagemaker:Creating training-job with name: test-training1698284057\n"
     ]
    },
    {
     "name": "stdout",
     "output_type": "stream",
     "text": [
      "2023-10-26 01:34:21 Starting - Starting the training job...\n",
      "2023-10-26 01:34:36 Starting - Preparing the instances for training......\n",
      "2023-10-26 01:35:52 Downloading - Downloading input data...\n",
      "2023-10-26 01:36:27 Training - Downloading the training image...\n",
      "2023-10-26 01:36:58 Training - Training image download completed. Training in progress..2023-10-26 01:37:01,233 sagemaker-containers INFO     Imported framework sagemaker_sklearn_container.training\n",
      "2023-10-26 01:37:01,238 sagemaker-training-toolkit INFO     No GPUs detected (normal if no gpus installed)\n",
      "2023-10-26 01:37:01,290 sagemaker_sklearn_container.training INFO     Invoking user training script.\n",
      "2023-10-26 01:37:01,478 sagemaker-training-toolkit INFO     No GPUs detected (normal if no gpus installed)\n",
      "2023-10-26 01:37:01,492 sagemaker-training-toolkit INFO     No GPUs detected (normal if no gpus installed)\n",
      "2023-10-26 01:37:01,506 sagemaker-training-toolkit INFO     No GPUs detected (normal if no gpus installed)\n",
      "2023-10-26 01:37:01,516 sagemaker-training-toolkit INFO     Invoking user script\n",
      "Training Env:\n",
      "{\n",
      "    \"additional_framework_parameters\": {},\n",
      "    \"channel_input_dirs\": {\n",
      "        \"test\": \"/opt/ml/input/data/test\",\n",
      "        \"train\": \"/opt/ml/input/data/train\"\n",
      "    },\n",
      "    \"current_host\": \"algo-1\",\n",
      "    \"framework_module\": \"sagemaker_sklearn_container.training:main\",\n",
      "    \"hosts\": [\n",
      "        \"algo-1\"\n",
      "    ],\n",
      "    \"hyperparameters\": {},\n",
      "    \"input_config_dir\": \"/opt/ml/input/config\",\n",
      "    \"input_data_config\": {\n",
      "        \"test\": {\n",
      "            \"TrainingInputMode\": \"File\",\n",
      "            \"S3DistributionType\": \"FullyReplicated\",\n",
      "            \"RecordWrapperType\": \"None\"\n",
      "        },\n",
      "        \"train\": {\n",
      "            \"TrainingInputMode\": \"File\",\n",
      "            \"S3DistributionType\": \"FullyReplicated\",\n",
      "            \"RecordWrapperType\": \"None\"\n",
      "        }\n",
      "    },\n",
      "    \"input_dir\": \"/opt/ml/input\",\n",
      "    \"is_master\": true,\n",
      "    \"job_name\": \"test-training1698284057\",\n",
      "    \"log_level\": 20,\n",
      "    \"master_hostname\": \"algo-1\",\n",
      "    \"model_dir\": \"/opt/ml/model\",\n",
      "    \"module_dir\": \"s3://sagemaker-us-east-1-928389782162/test-training1698284057/source/sourcedir.tar.gz\",\n",
      "    \"module_name\": \"training_script\",\n",
      "    \"network_interface_name\": \"eth0\",\n",
      "    \"num_cpus\": 2,\n",
      "    \"num_gpus\": 0,\n",
      "    \"output_data_dir\": \"/opt/ml/output/data\",\n",
      "    \"output_dir\": \"/opt/ml/output\",\n",
      "    \"output_intermediate_dir\": \"/opt/ml/output/intermediate\",\n",
      "    \"resource_config\": {\n",
      "        \"current_host\": \"algo-1\",\n",
      "        \"current_instance_type\": \"ml.m5.large\",\n",
      "        \"current_group_name\": \"homogeneousCluster\",\n",
      "        \"hosts\": [\n",
      "            \"algo-1\"\n",
      "        ],\n",
      "        \"instance_groups\": [\n",
      "            {\n",
      "                \"instance_group_name\": \"homogeneousCluster\",\n",
      "                \"instance_type\": \"ml.m5.large\",\n",
      "                \"hosts\": [\n",
      "                    \"algo-1\"\n",
      "                ]\n",
      "            }\n",
      "        ],\n",
      "        \"network_interface_name\": \"eth0\"\n",
      "    },\n",
      "    \"user_entry_point\": \"training_script.py\"\n",
      "}\n",
      "Environment variables:\n",
      "SM_HOSTS=[\"algo-1\"]\n",
      "SM_NETWORK_INTERFACE_NAME=eth0\n",
      "SM_HPS={}\n",
      "SM_USER_ENTRY_POINT=training_script.py\n",
      "SM_FRAMEWORK_PARAMS={}\n",
      "SM_RESOURCE_CONFIG={\"current_group_name\":\"homogeneousCluster\",\"current_host\":\"algo-1\",\"current_instance_type\":\"ml.m5.large\",\"hosts\":[\"algo-1\"],\"instance_groups\":[{\"hosts\":[\"algo-1\"],\"instance_group_name\":\"homogeneousCluster\",\"instance_type\":\"ml.m5.large\"}],\"network_interface_name\":\"eth0\"}\n",
      "SM_INPUT_DATA_CONFIG={\"test\":{\"RecordWrapperType\":\"None\",\"S3DistributionType\":\"FullyReplicated\",\"TrainingInputMode\":\"File\"},\"train\":{\"RecordWrapperType\":\"None\",\"S3DistributionType\":\"FullyReplicated\",\"TrainingInputMode\":\"File\"}}\n",
      "SM_OUTPUT_DATA_DIR=/opt/ml/output/data\n",
      "SM_CHANNELS=[\"test\",\"train\"]\n",
      "SM_CURRENT_HOST=algo-1\n",
      "SM_MODULE_NAME=training_script\n",
      "SM_LOG_LEVEL=20\n",
      "SM_FRAMEWORK_MODULE=sagemaker_sklearn_container.training:main\n",
      "SM_INPUT_DIR=/opt/ml/input\n",
      "SM_INPUT_CONFIG_DIR=/opt/ml/input/config\n",
      "SM_OUTPUT_DIR=/opt/ml/output\n",
      "SM_NUM_CPUS=2\n",
      "SM_NUM_GPUS=0\n",
      "SM_MODEL_DIR=/opt/ml/model\n",
      "SM_MODULE_DIR=s3://sagemaker-us-east-1-928389782162/test-training1698284057/source/sourcedir.tar.gz\n",
      "SM_TRAINING_ENV={\"additional_framework_parameters\":{},\"channel_input_dirs\":{\"test\":\"/opt/ml/input/data/test\",\"train\":\"/opt/ml/input/data/train\"},\"current_host\":\"algo-1\",\"framework_module\":\"sagemaker_sklearn_container.training:main\",\"hosts\":[\"algo-1\"],\"hyperparameters\":{},\"input_config_dir\":\"/opt/ml/input/config\",\"input_data_config\":{\"test\":{\"RecordWrapperType\":\"None\",\"S3DistributionType\":\"FullyReplicated\",\"TrainingInputMode\":\"File\"},\"train\":{\"RecordWrapperType\":\"None\",\"S3DistributionType\":\"FullyReplicated\",\"TrainingInputMode\":\"File\"}},\"input_dir\":\"/opt/ml/input\",\"is_master\":true,\"job_name\":\"test-training1698284057\",\"log_level\":20,\"master_hostname\":\"algo-1\",\"model_dir\":\"/opt/ml/model\",\"module_dir\":\"s3://sagemaker-us-east-1-928389782162/test-training1698284057/source/sourcedir.tar.gz\",\"module_name\":\"training_script\",\"network_interface_name\":\"eth0\",\"num_cpus\":2,\"num_gpus\":0,\"output_data_dir\":\"/opt/ml/output/data\",\"output_dir\":\"/opt/ml/output\",\"output_intermediate_dir\":\"/opt/ml/output/intermediate\",\"resource_config\":{\"current_group_name\":\"homogeneousCluster\",\"current_host\":\"algo-1\",\"current_instance_type\":\"ml.m5.large\",\"hosts\":[\"algo-1\"],\"instance_groups\":[{\"hosts\":[\"algo-1\"],\"instance_group_name\":\"homogeneousCluster\",\"instance_type\":\"ml.m5.large\"}],\"network_interface_name\":\"eth0\"},\"user_entry_point\":\"training_script.py\"}\n",
      "SM_USER_ARGS=[]\n",
      "SM_OUTPUT_INTERMEDIATE_DIR=/opt/ml/output/intermediate\n",
      "SM_CHANNEL_TEST=/opt/ml/input/data/test\n",
      "SM_CHANNEL_TRAIN=/opt/ml/input/data/train\n",
      "PYTHONPATH=/opt/ml/code:/miniconda3/bin:/miniconda3/lib/python37.zip:/miniconda3/lib/python3.7:/miniconda3/lib/python3.7/lib-dynload:/miniconda3/lib/python3.7/site-packages\n",
      "Invoking script with the following command:\n",
      "/miniconda3/bin/python training_script.py\n",
      "Collecting sagemaker\n",
      "  Downloading sagemaker-2.183.0.tar.gz (869 kB)\n",
      "     ━━━━━━━━━━━━━━━━━━━━━━━━━━━━━━━━━━━━━━ 869.2/869.2 kB 39.3 MB/s eta 0:00:00\n",
      "  Preparing metadata (setup.py): started\n",
      "  Preparing metadata (setup.py): finished with status 'done'\n",
      "Collecting attrs<24,>=23.1.0\n",
      "  Downloading attrs-23.1.0-py3-none-any.whl (61 kB)\n",
      "     ━━━━━━━━━━━━━━━━━━━━━━━━━━━━━━━━━━━━━━━━ 61.2/61.2 kB 7.7 MB/s eta 0:00:00\n",
      "Collecting boto3<2.0,>=1.26.131\n",
      "  Downloading boto3-1.28.71-py3-none-any.whl (135 kB)\n",
      "     ━━━━━━━━━━━━━━━━━━━━━━━━━━━━━━━━━━━━━━ 135.8/135.8 kB 22.5 MB/s eta 0:00:00\n",
      "Collecting cloudpickle==2.2.1\n",
      "  Downloading cloudpickle-2.2.1-py3-none-any.whl (25 kB)\n",
      "Collecting google-pasta\n",
      "  Downloading google_pasta-0.2.0-py3-none-any.whl (57 kB)\n",
      "     ━━━━━━━━━━━━━━━━━━━━━━━━━━━━━━━━━━━━━━━━ 57.5/57.5 kB 14.7 MB/s eta 0:00:00\n",
      "Requirement already satisfied: numpy<2.0,>=1.9.0 in /miniconda3/lib/python3.7/site-packages (from sagemaker) (1.19.2)\n",
      "Requirement already satisfied: protobuf<5.0,>=3.12 in /miniconda3/lib/python3.7/site-packages (from sagemaker) (3.20.2)\n",
      "Collecting smdebug_rulesconfig==1.0.1\n",
      "  Downloading smdebug_rulesconfig-1.0.1-py2.py3-none-any.whl (20 kB)\n",
      "Requirement already satisfied: importlib-metadata<7.0,>=1.4.0 in /miniconda3/lib/python3.7/site-packages (from sagemaker) (6.0.0)\n",
      "Collecting packaging>=20.0\n",
      "  Downloading packaging-23.2-py3-none-any.whl (53 kB)\n",
      "     ━━━━━━━━━━━━━━━━━━━━━━━━━━━━━━━━━━━━━━━━ 53.0/53.0 kB 12.3 MB/s eta 0:00:00\n",
      "Requirement already satisfied: pandas in /miniconda3/lib/python3.7/site-packages (from sagemaker) (1.1.3)\n",
      "Collecting pathos\n",
      "  Downloading pathos-0.3.1-py3-none-any.whl (82 kB)\n",
      "     ━━━━━━━━━━━━━━━━━━━━━━━━━━━━━━━━━━━━━━━━ 82.1/82.1 kB 22.4 MB/s eta 0:00:00\n",
      "Collecting schema\n",
      "  Downloading schema-0.7.5-py2.py3-none-any.whl (17 kB)\n",
      "Collecting PyYAML~=6.0\n",
      "  Downloading PyYAML-6.0.1-cp37-cp37m-manylinux_2_17_x86_64.manylinux2014_x86_64.whl (670 kB)\n",
      "     ━━━━━━━━━━━━━━━━━━━━━━━━━━━━━━━━━━━━━━ 670.1/670.1 kB 66.4 MB/s eta 0:00:00\n",
      "Collecting jsonschema\n",
      "  Downloading jsonschema-4.17.3-py3-none-any.whl (90 kB)\n",
      "     ━━━━━━━━━━━━━━━━━━━━━━━━━━━━━━━━━━━━━━━━ 90.4/90.4 kB 17.0 MB/s eta 0:00:00\n",
      "Collecting platformdirs\n",
      "  Downloading platformdirs-3.11.0-py3-none-any.whl (17 kB)\n",
      "Collecting tblib==1.7.0\n",
      "  Downloading tblib-1.7.0-py2.py3-none-any.whl (12 kB)\n",
      "Requirement already satisfied: jmespath<2.0.0,>=0.7.1 in /miniconda3/lib/python3.7/site-packages (from boto3<2.0,>=1.26.131->sagemaker) (1.0.1)\n",
      "Collecting s3transfer<0.8.0,>=0.7.0\n",
      "  Downloading s3transfer-0.7.0-py3-none-any.whl (79 kB)\n",
      "     ━━━━━━━━━━━━━━━━━━━━━━━━━━━━━━━━━━━━━━━━ 79.8/79.8 kB 20.1 MB/s eta 0:00:00\n",
      "Collecting botocore<1.32.0,>=1.31.71\n",
      "  Downloading botocore-1.31.71-py3-none-any.whl (11.3 MB)\n",
      "     ━━━━━━━━━━━━━━━━━━━━━━━━━━━━━━━━━━━━━━━━ 11.3/11.3 MB 91.5 MB/s eta 0:00:00\n",
      "Requirement already satisfied: zipp>=0.5 in /miniconda3/lib/python3.7/site-packages (from importlib-metadata<7.0,>=1.4.0->sagemaker) (3.13.0)\n",
      "Requirement already satisfied: typing-extensions>=3.6.4 in /miniconda3/lib/python3.7/site-packages (from importlib-metadata<7.0,>=1.4.0->sagemaker) (4.4.0)\n",
      "Requirement already satisfied: six in /miniconda3/lib/python3.7/site-packages (from google-pasta->sagemaker) (1.15.0)\n",
      "Collecting pyrsistent!=0.17.0,!=0.17.1,!=0.17.2,>=0.14.0\n",
      "  Downloading pyrsistent-0.19.3-py3-none-any.whl (57 kB)\n",
      "     ━━━━━━━━━━━━━━━━━━━━━━━━━━━━━━━━━━━━━━━━ 57.5/57.5 kB 15.9 MB/s eta 0:00:00\n",
      "Collecting importlib-resources>=1.4.0\n",
      "  Downloading importlib_resources-5.12.0-py3-none-any.whl (36 kB)\n",
      "Collecting pkgutil-resolve-name>=1.3.10\n",
      "  Downloading pkgutil_resolve_name-1.3.10-py3-none-any.whl (4.7 kB)\n",
      "Requirement already satisfied: pytz>=2017.2 in /miniconda3/lib/python3.7/site-packages (from pandas->sagemaker) (2022.7.1)\n",
      "Requirement already satisfied: python-dateutil>=2.7.3 in /miniconda3/lib/python3.7/site-packages (from pandas->sagemaker) (2.8.1)\n",
      "Collecting multiprocess>=0.70.15\n",
      "  Downloading multiprocess-0.70.15-py37-none-any.whl (116 kB)\n",
      "     ━━━━━━━━━━━━━━━━━━━━━━━━━━━━━━━━━━━━━━ 116.3/116.3 kB 27.8 MB/s eta 0:00:00\n",
      "Collecting ppft>=1.7.6.7\n",
      "  Downloading ppft-1.7.6.7-py3-none-any.whl (56 kB)\n",
      "     ━━━━━━━━━━━━━━━━━━━━━━━━━━━━━━━━━━━━━━━━ 56.8/56.8 kB 11.8 MB/s eta 0:00:00\n",
      "Collecting dill>=0.3.7\n",
      "  Downloading dill-0.3.7-py3-none-any.whl (115 kB)\n",
      "     ━━━━━━━━━━━━━━━━━━━━━━━━━━━━━━━━━━━━━━ 115.3/115.3 kB 26.1 MB/s eta 0:00:00\n",
      "Collecting pox>=0.3.3\n",
      "  Downloading pox-0.3.3-py3-none-any.whl (29 kB)\n",
      "Collecting typing-extensions>=3.6.4\n",
      "  Downloading typing_extensions-4.7.1-py3-none-any.whl (33 kB)\n",
      "Collecting contextlib2>=0.5.5\n",
      "  Downloading contextlib2-21.6.0-py2.py3-none-any.whl (13 kB)\n",
      "Requirement already satisfied: urllib3<1.27,>=1.25.4 in /miniconda3/lib/python3.7/site-packages (from botocore<1.32.0,>=1.31.71->boto3<2.0,>=1.26.131->sagemaker) (1.26.14)\n",
      "Building wheels for collected packages: sagemaker\n",
      "  Building wheel for sagemaker (setup.py): started\n",
      "  Building wheel for sagemaker (setup.py): finished with status 'done'\n",
      "  Created wheel for sagemaker: filename=sagemaker-2.183.0-py2.py3-none-any.whl size=1185521 sha256=d2e8028d6b13d5a9472407fa7a0d7fd9a0ba46b910dd9a1b91db62ef582b81f7\n",
      "  Stored in directory: /root/.cache/pip/wheels/64/b9/97/1af9132f8d296f0df5a083145c82698bd404ebe8f046e39805\n",
      "Successfully built sagemaker\n",
      "Installing collected packages: typing-extensions, tblib, smdebug_rulesconfig, PyYAML, pyrsistent, ppft, pox, pkgutil-resolve-name, packaging, importlib-resources, google-pasta, dill, contextlib2, cloudpickle, schema, platformdirs, multiprocess, botocore, s3transfer, pathos, attrs, jsonschema, boto3, sagemaker\n",
      "  Attempting uninstall: typing-extensions\n",
      "    Found existing installation: typing_extensions 4.4.0\n",
      "    Uninstalling typing_extensions-4.4.0:\n",
      "      Successfully uninstalled typing_extensions-4.4.0\n",
      "  Attempting uninstall: botocore\n",
      "    Found existing installation: botocore 1.27.18\n",
      "    Uninstalling botocore-1.27.18:\n",
      "      Successfully uninstalled botocore-1.27.18\n",
      "  Attempting uninstall: s3transfer\n",
      "    Found existing installation: s3transfer 0.6.0\n",
      "    Uninstalling s3transfer-0.6.0:\n",
      "      Successfully uninstalled s3transfer-0.6.0\n",
      "  Attempting uninstall: boto3\n",
      "    Found existing installation: boto3 1.24.17\n",
      "    Uninstalling boto3-1.24.17:\n",
      "      Successfully uninstalled boto3-1.24.17\n",
      "ERROR: pip's dependency resolver does not currently take into account all the packages that are installed. This behaviour is the source of the following dependency conflicts.\n",
      "sagemaker-sklearn-container 2.0 requires boto3==1.24.17, but you have boto3 1.28.71 which is incompatible.\n",
      "sagemaker-sklearn-container 2.0 requires botocore==1.27.18, but you have botocore 1.31.71 which is incompatible.\n",
      "Successfully installed PyYAML-6.0.1 attrs-23.1.0 boto3-1.28.71 botocore-1.31.71 cloudpickle-2.2.1 contextlib2-21.6.0 dill-0.3.7 google-pasta-0.2.0 importlib-resources-5.12.0 jsonschema-4.17.3 multiprocess-0.70.15 packaging-23.2 pathos-0.3.1 pkgutil-resolve-name-1.3.10 platformdirs-3.11.0 pox-0.3.3 ppft-1.7.6.7 pyrsistent-0.19.3 s3transfer-0.7.0 sagemaker-2.183.0 schema-0.7.5 smdebug_rulesconfig-1.0.1 tblib-1.7.0 typing-extensions-4.7.1\n",
      "WARNING: Running pip as the 'root' user can result in broken permissions and conflicting behaviour with the system package manager. It is recommended to use a virtual environment instead: https://pip.pypa.io/warnings/venv\n",
      "[notice] A new release of pip is available: 23.0 -> 23.3.1\n",
      "[notice] To update, run: pip install --upgrade pip\n",
      "/miniconda3/lib/python3.7/site-packages/boto3/compat.py:82: PythonDeprecationWarning: Boto3 will no longer support Python 3.7 starting December 13, 2023. To continue receiving service updates, bug fixes, and security updates please upgrade to Python 3.8 or later. More information can be found here: https://aws.amazon.com/blogs/developer/python-support-policy-updates-for-aws-sdks-and-tools/\n",
      "  warnings.warn(warning, PythonDeprecationWarning)\n",
      "sagemaker\n",
      "INFO:sagemaker.experiments.run:The run (check-run-1698284052) under experiment (test-training-1698283047) already exists. Loading it.\n",
      "Traceback (most recent call last):\n",
      "  File \"training_script.py\", line 138, in <module>\n",
      "    evaluate_model(model, test, run)\n",
      "  File \"training_script.py\", line 92, in evaluate_model\n",
      "    run.log_confusion_matrix(y, y_pred)\n",
      "  File \"/miniconda3/lib/python3.7/site-packages/sagemaker/experiments/_utils.py\", line 90, in wrapper\n",
      "    return func(*args, **kwargs)\n",
      "  File \"/miniconda3/lib/python3.7/site-packages/sagemaker/experiments/run.py\", line 467, in log_confusion_matrix\n",
      "    is_output=is_output,\n",
      "  File \"/miniconda3/lib/python3.7/site-packages/sagemaker/experiments/run.py\", line 593, in _log_graph_artifact\n",
      "    artifact_name, data, file_extension=\"json\"\n",
      "  File \"/miniconda3/lib/python3.7/site-packages/sagemaker/experiments/_helper.py\", line 122, in upload_object_artifact\n",
      "    artifact_name + (\"\" if file_extension.startswith(\".\") else \".\") + file_extension\n",
      "TypeError: unsupported operand type(s) for +: 'NoneType' and 'str'\n",
      "2023-10-26 01:37:14,641 sagemaker-containers ERROR    Reporting training FAILURE\n",
      "2023-10-26 01:37:14,642 sagemaker-containers ERROR    framework error: \n",
      "Traceback (most recent call last):\n",
      "  File \"/miniconda3/lib/python3.7/site-packages/sagemaker_containers/_trainer.py\", line 84, in train\n",
      "    entrypoint()\n",
      "  File \"/miniconda3/lib/python3.7/site-packages/sagemaker_sklearn_container/training.py\", line 39, in main\n",
      "    train(environment.Environment())\n",
      "  File \"/miniconda3/lib/python3.7/site-packages/sagemaker_sklearn_container/training.py\", line 35, in train\n",
      "    runner_type=runner.ProcessRunnerType)\n",
      "  File \"/miniconda3/lib/python3.7/site-packages/sagemaker_training/entry_point.py\", line 100, in run\n",
      "    wait, capture_error\n",
      "  File \"/miniconda3/lib/python3.7/site-packages/sagemaker_training/process.py\", line 291, in run\n",
      "    cwd=environment.code_dir,\n",
      "  File \"/miniconda3/lib/python3.7/site-packages/sagemaker_training/process.py\", line 208, in check_error\n",
      "    info=extra_info,\n",
      "sagemaker_training.errors.ExecuteUserScriptError: ExecuteUserScriptError:\n",
      "ExitCode 1\n",
      "ErrorMessage \"\"\n",
      "Command \"/miniconda3/bin/python training_script.py\"\n",
      "ExecuteUserScriptError:\n",
      "ExitCode 1\n",
      "ErrorMessage \"\"\n",
      "Command \"/miniconda3/bin/python training_script.py\"\n",
      "\n",
      "2023-10-26 01:37:29 Uploading - Uploading generated training model\n",
      "2023-10-26 01:37:29 Failed - Training job failed\n"
     ]
    },
    {
     "ename": "ClientError",
     "evalue": "An error occurred (ValidationException) when calling the UpdateTrialComponent operation: 2 validation errors detected: Value 'Error for Training job test-training1698284057: Failed. Reason: AlgorithmError: framework error: \nTraceback (most recent call last):\n  File \"/miniconda3/lib/python3.7/site-packages/sagemaker_containers/_trainer.py\", line 84, in train\n    entrypoint()\n  File \"/miniconda3/lib/python3.7/site-packages/sagemaker_sklearn_container/training.py\", line 39, in main\n    train(environment.Environment())\n  File \"/miniconda3/lib/python3.7/site-packages/sagemaker_sklearn_container/training.py\", line 35, in train\n    runner_type=runner.ProcessRunnerType)\n  File \"/miniconda3/lib/python3.7/site-packages/sagemaker_training/entry_point.py\", line 100, in run\n    wait, capture_error\n  File \"/miniconda3/lib/python3.7/site-packages/sagemaker_training/process.py\", line 291, in run\n    cwd=environment.code_dir,\n  File \"/miniconda3/lib/python3.7/site-packages/sagemaker_training/process.py\", line 208, in check_error\n    info=extra_info,\nsagemaker_training.errors.ExecuteUserScriptError: ExecuteUserScriptError:\nExitCode 1\nErrorMessage \"\"\nCommand \"/miniconda3/bin/python training_script.py\"\n\nExecuteUser' at 'status.message' failed to satisfy constraint: Member must have length less than or equal to 1024; Value 'Error for Training job test-training1698284057: Failed. Reason: AlgorithmError: framework error: \nTraceback (most recent call last):\n  File \"/miniconda3/lib/python3.7/site-packages/sagemaker_containers/_trainer.py\", line 84, in train\n    entrypoint()\n  File \"/miniconda3/lib/python3.7/site-packages/sagemaker_sklearn_container/training.py\", line 39, in main\n    train(environment.Environment())\n  File \"/miniconda3/lib/python3.7/site-packages/sagemaker_sklearn_container/training.py\", line 35, in train\n    runner_type=runner.ProcessRunnerType)\n  File \"/miniconda3/lib/python3.7/site-packages/sagemaker_training/entry_point.py\", line 100, in run\n    wait, capture_error\n  File \"/miniconda3/lib/python3.7/site-packages/sagemaker_training/process.py\", line 291, in run\n    cwd=environment.code_dir,\n  File \"/miniconda3/lib/python3.7/site-packages/sagemaker_training/process.py\", line 208, in check_error\n    info=extra_info,\nsagemaker_training.errors.ExecuteUserScriptError: ExecuteUserScriptError:\nExitCode 1\nErrorMessage \"\"\nCommand \"/miniconda3/bin/python training_script.py\"\n\nExecuteUser' at 'status.message' failed to satisfy constraint: Member must satisfy regular expression pattern: .*",
     "output_type": "error",
     "traceback": [
      "\u001b[0;31m---------------------------------------------------------------------------\u001b[0m",
      "\u001b[0;31mUnexpectedStatusException\u001b[0m                 Traceback (most recent call last)",
      "\u001b[1;32m/Users/Labi/V_env/ML_Orchestration/sagemaker/test_processor.ipynb Cell 33\u001b[0m line \u001b[0;36m2\n\u001b[1;32m     <a href='vscode-notebook-cell:/Users/Labi/V_env/ML_Orchestration/sagemaker/test_processor.ipynb#X44sZmlsZQ%3D%3D?line=18'>19</a>\u001b[0m estimator \u001b[39m=\u001b[39m SKLearn(\u001b[39m*\u001b[39m\u001b[39m*\u001b[39mestimator_parameters) \n\u001b[0;32m---> <a href='vscode-notebook-cell:/Users/Labi/V_env/ML_Orchestration/sagemaker/test_processor.ipynb#X44sZmlsZQ%3D%3D?line=20'>21</a>\u001b[0m estimator\u001b[39m.\u001b[39;49mfit(\n\u001b[1;32m     <a href='vscode-notebook-cell:/Users/Labi/V_env/ML_Orchestration/sagemaker/test_processor.ipynb#X44sZmlsZQ%3D%3D?line=21'>22</a>\u001b[0m     inputs,\n\u001b[1;32m     <a href='vscode-notebook-cell:/Users/Labi/V_env/ML_Orchestration/sagemaker/test_processor.ipynb#X44sZmlsZQ%3D%3D?line=22'>23</a>\u001b[0m     job_name\u001b[39m=\u001b[39;49m\u001b[39mf\u001b[39;49m\u001b[39m'\u001b[39;49m\u001b[39mtest-training\u001b[39;49m\u001b[39m{\u001b[39;49;00m\u001b[39mint\u001b[39;49m(time\u001b[39m.\u001b[39;49mtime())\u001b[39m}\u001b[39;49;00m\u001b[39m'\u001b[39;49m,\n\u001b[1;32m     <a href='vscode-notebook-cell:/Users/Labi/V_env/ML_Orchestration/sagemaker/test_processor.ipynb#X44sZmlsZQ%3D%3D?line=23'>24</a>\u001b[0m \u001b[39m#     experiment_config={\u001b[39;49;00m\n\u001b[1;32m     <a href='vscode-notebook-cell:/Users/Labi/V_env/ML_Orchestration/sagemaker/test_processor.ipynb#X44sZmlsZQ%3D%3D?line=24'>25</a>\u001b[0m \u001b[39m#     'TrialName': trial.trial_name,\u001b[39;49;00m\n\u001b[1;32m     <a href='vscode-notebook-cell:/Users/Labi/V_env/ML_Orchestration/sagemaker/test_processor.ipynb#X44sZmlsZQ%3D%3D?line=25'>26</a>\u001b[0m \u001b[39m#     'TrialComponentDisplayName': 'Training'\u001b[39;49;00m\n\u001b[1;32m     <a href='vscode-notebook-cell:/Users/Labi/V_env/ML_Orchestration/sagemaker/test_processor.ipynb#X44sZmlsZQ%3D%3D?line=26'>27</a>\u001b[0m \u001b[39m# },\u001b[39;49;00m\n\u001b[1;32m     <a href='vscode-notebook-cell:/Users/Labi/V_env/ML_Orchestration/sagemaker/test_processor.ipynb#X44sZmlsZQ%3D%3D?line=27'>28</a>\u001b[0m )\n",
      "File \u001b[0;32m~/.local/share/virtualenvs/env-I1MV0Xfu/lib/python3.9/site-packages/sagemaker/workflow/pipeline_context.py:311\u001b[0m, in \u001b[0;36mrunnable_by_pipeline.<locals>.wrapper\u001b[0;34m(*args, **kwargs)\u001b[0m\n\u001b[1;32m    309\u001b[0m     \u001b[39mreturn\u001b[39;00m _StepArguments(retrieve_caller_name(self_instance), run_func, \u001b[39m*\u001b[39margs, \u001b[39m*\u001b[39m\u001b[39m*\u001b[39mkwargs)\n\u001b[0;32m--> 311\u001b[0m \u001b[39mreturn\u001b[39;00m run_func(\u001b[39m*\u001b[39;49margs, \u001b[39m*\u001b[39;49m\u001b[39m*\u001b[39;49mkwargs)\n",
      "File \u001b[0;32m~/.local/share/virtualenvs/env-I1MV0Xfu/lib/python3.9/site-packages/sagemaker/estimator.py:1314\u001b[0m, in \u001b[0;36mEstimatorBase.fit\u001b[0;34m(self, inputs, wait, logs, job_name, experiment_config)\u001b[0m\n\u001b[1;32m   1313\u001b[0m \u001b[39mif\u001b[39;00m wait:\n\u001b[0;32m-> 1314\u001b[0m     \u001b[39mself\u001b[39;49m\u001b[39m.\u001b[39;49mlatest_training_job\u001b[39m.\u001b[39;49mwait(logs\u001b[39m=\u001b[39;49mlogs)\n",
      "File \u001b[0;32m~/.local/share/virtualenvs/env-I1MV0Xfu/lib/python3.9/site-packages/sagemaker/estimator.py:2597\u001b[0m, in \u001b[0;36m_TrainingJob.wait\u001b[0;34m(self, logs)\u001b[0m\n\u001b[1;32m   2596\u001b[0m \u001b[39mif\u001b[39;00m logs \u001b[39m!=\u001b[39m \u001b[39m\"\u001b[39m\u001b[39mNone\u001b[39m\u001b[39m\"\u001b[39m:\n\u001b[0;32m-> 2597\u001b[0m     \u001b[39mself\u001b[39;49m\u001b[39m.\u001b[39;49msagemaker_session\u001b[39m.\u001b[39;49mlogs_for_job(\u001b[39mself\u001b[39;49m\u001b[39m.\u001b[39;49mjob_name, wait\u001b[39m=\u001b[39;49m\u001b[39mTrue\u001b[39;49;00m, log_type\u001b[39m=\u001b[39;49mlogs)\n\u001b[1;32m   2598\u001b[0m \u001b[39melse\u001b[39;00m:\n",
      "File \u001b[0;32m~/.local/share/virtualenvs/env-I1MV0Xfu/lib/python3.9/site-packages/sagemaker/session.py:4973\u001b[0m, in \u001b[0;36mSession.logs_for_job\u001b[0;34m(self, job_name, wait, poll, log_type, timeout)\u001b[0m\n\u001b[1;32m   4953\u001b[0m \u001b[39m\u001b[39m\u001b[39m\"\"\"Display logs for a given training job, optionally tailing them until job is complete.\u001b[39;00m\n\u001b[1;32m   4954\u001b[0m \n\u001b[1;32m   4955\u001b[0m \u001b[39mIf the output is a tty or a Jupyter cell, it will be color-coded\u001b[39;00m\n\u001b[0;32m   (...)\u001b[0m\n\u001b[1;32m   4971\u001b[0m \u001b[39m    exceptions.UnexpectedStatusException: If waiting and the training job fails.\u001b[39;00m\n\u001b[1;32m   4972\u001b[0m \u001b[39m\"\"\"\u001b[39;00m\n\u001b[0;32m-> 4973\u001b[0m _logs_for_job(\u001b[39mself\u001b[39;49m\u001b[39m.\u001b[39;49mboto_session, job_name, wait, poll, log_type, timeout)\n",
      "File \u001b[0;32m~/.local/share/virtualenvs/env-I1MV0Xfu/lib/python3.9/site-packages/sagemaker/session.py:6897\u001b[0m, in \u001b[0;36m_logs_for_job\u001b[0;34m(boto_session, job_name, wait, poll, log_type, timeout)\u001b[0m\n\u001b[1;32m   6896\u001b[0m \u001b[39mif\u001b[39;00m wait:\n\u001b[0;32m-> 6897\u001b[0m     _check_job_status(job_name, description, \u001b[39m\"\u001b[39;49m\u001b[39mTrainingJobStatus\u001b[39;49m\u001b[39m\"\u001b[39;49m)\n\u001b[1;32m   6898\u001b[0m     \u001b[39mif\u001b[39;00m dot:\n",
      "File \u001b[0;32m~/.local/share/virtualenvs/env-I1MV0Xfu/lib/python3.9/site-packages/sagemaker/session.py:6950\u001b[0m, in \u001b[0;36m_check_job_status\u001b[0;34m(job, desc, status_key_name)\u001b[0m\n\u001b[1;32m   6945\u001b[0m     \u001b[39mraise\u001b[39;00m exceptions\u001b[39m.\u001b[39mCapacityError(\n\u001b[1;32m   6946\u001b[0m         message\u001b[39m=\u001b[39mmessage,\n\u001b[1;32m   6947\u001b[0m         allowed_statuses\u001b[39m=\u001b[39m[\u001b[39m\"\u001b[39m\u001b[39mCompleted\u001b[39m\u001b[39m\"\u001b[39m, \u001b[39m\"\u001b[39m\u001b[39mStopped\u001b[39m\u001b[39m\"\u001b[39m],\n\u001b[1;32m   6948\u001b[0m         actual_status\u001b[39m=\u001b[39mstatus,\n\u001b[1;32m   6949\u001b[0m     )\n\u001b[0;32m-> 6950\u001b[0m \u001b[39mraise\u001b[39;00m exceptions\u001b[39m.\u001b[39mUnexpectedStatusException(\n\u001b[1;32m   6951\u001b[0m     message\u001b[39m=\u001b[39mmessage,\n\u001b[1;32m   6952\u001b[0m     allowed_statuses\u001b[39m=\u001b[39m[\u001b[39m\"\u001b[39m\u001b[39mCompleted\u001b[39m\u001b[39m\"\u001b[39m, \u001b[39m\"\u001b[39m\u001b[39mStopped\u001b[39m\u001b[39m\"\u001b[39m],\n\u001b[1;32m   6953\u001b[0m     actual_status\u001b[39m=\u001b[39mstatus,\n\u001b[1;32m   6954\u001b[0m )\n",
      "\u001b[0;31mUnexpectedStatusException\u001b[0m: Error for Training job test-training1698284057: Failed. Reason: AlgorithmError: framework error: \nTraceback (most recent call last):\n  File \"/miniconda3/lib/python3.7/site-packages/sagemaker_containers/_trainer.py\", line 84, in train\n    entrypoint()\n  File \"/miniconda3/lib/python3.7/site-packages/sagemaker_sklearn_container/training.py\", line 39, in main\n    train(environment.Environment())\n  File \"/miniconda3/lib/python3.7/site-packages/sagemaker_sklearn_container/training.py\", line 35, in train\n    runner_type=runner.ProcessRunnerType)\n  File \"/miniconda3/lib/python3.7/site-packages/sagemaker_training/entry_point.py\", line 100, in run\n    wait, capture_error\n  File \"/miniconda3/lib/python3.7/site-packages/sagemaker_training/process.py\", line 291, in run\n    cwd=environment.code_dir,\n  File \"/miniconda3/lib/python3.7/site-packages/sagemaker_training/process.py\", line 208, in check_error\n    info=extra_info,\nsagemaker_training.errors.ExecuteUserScriptError: ExecuteUserScriptError:\nExitCode 1\nErrorMessage \"\"\nCommand \"/miniconda3/bin/python training_script.py\"\n\nExecuteUser",
      "\nDuring handling of the above exception, another exception occurred:\n",
      "\u001b[0;31mClientError\u001b[0m                               Traceback (most recent call last)",
      "\u001b[1;32m/Users/Labi/V_env/ML_Orchestration/sagemaker/test_processor.ipynb Cell 33\u001b[0m line \u001b[0;36m2\n\u001b[1;32m      <a href='vscode-notebook-cell:/Users/Labi/V_env/ML_Orchestration/sagemaker/test_processor.ipynb#X44sZmlsZQ%3D%3D?line=2'>3</a>\u001b[0m     estimator_parameters \u001b[39m=\u001b[39m {\n\u001b[1;32m      <a href='vscode-notebook-cell:/Users/Labi/V_env/ML_Orchestration/sagemaker/test_processor.ipynb#X44sZmlsZQ%3D%3D?line=3'>4</a>\u001b[0m     \u001b[39m\"\u001b[39m\u001b[39mentry_point\u001b[39m\u001b[39m\"\u001b[39m: \u001b[39m\"\u001b[39m\u001b[39mtraining_script.py\u001b[39m\u001b[39m\"\u001b[39m,\n\u001b[1;32m      <a href='vscode-notebook-cell:/Users/Labi/V_env/ML_Orchestration/sagemaker/test_processor.ipynb#X44sZmlsZQ%3D%3D?line=4'>5</a>\u001b[0m     \u001b[39m# \"source_dir\": training_dir,\u001b[39;00m\n\u001b[0;32m   (...)\u001b[0m\n\u001b[1;32m     <a href='vscode-notebook-cell:/Users/Labi/V_env/ML_Orchestration/sagemaker/test_processor.ipynb#X44sZmlsZQ%3D%3D?line=15'>16</a>\u001b[0m     \u001b[39m\"\u001b[39m\u001b[39mmetric_definition\u001b[39m\u001b[39m\"\u001b[39m: metric_definition\n\u001b[1;32m     <a href='vscode-notebook-cell:/Users/Labi/V_env/ML_Orchestration/sagemaker/test_processor.ipynb#X44sZmlsZQ%3D%3D?line=16'>17</a>\u001b[0m }\n\u001b[1;32m     <a href='vscode-notebook-cell:/Users/Labi/V_env/ML_Orchestration/sagemaker/test_processor.ipynb#X44sZmlsZQ%3D%3D?line=18'>19</a>\u001b[0m     estimator \u001b[39m=\u001b[39m SKLearn(\u001b[39m*\u001b[39m\u001b[39m*\u001b[39mestimator_parameters) \n\u001b[0;32m---> <a href='vscode-notebook-cell:/Users/Labi/V_env/ML_Orchestration/sagemaker/test_processor.ipynb#X44sZmlsZQ%3D%3D?line=20'>21</a>\u001b[0m     estimator\u001b[39m.\u001b[39mfit(\n\u001b[1;32m     <a href='vscode-notebook-cell:/Users/Labi/V_env/ML_Orchestration/sagemaker/test_processor.ipynb#X44sZmlsZQ%3D%3D?line=21'>22</a>\u001b[0m         inputs,\n\u001b[1;32m     <a href='vscode-notebook-cell:/Users/Labi/V_env/ML_Orchestration/sagemaker/test_processor.ipynb#X44sZmlsZQ%3D%3D?line=22'>23</a>\u001b[0m         job_name\u001b[39m=\u001b[39m\u001b[39mf\u001b[39m\u001b[39m'\u001b[39m\u001b[39mtest-training\u001b[39m\u001b[39m{\u001b[39;00m\u001b[39mint\u001b[39m(time\u001b[39m.\u001b[39mtime())\u001b[39m}\u001b[39;00m\u001b[39m'\u001b[39m,\n\u001b[1;32m     <a href='vscode-notebook-cell:/Users/Labi/V_env/ML_Orchestration/sagemaker/test_processor.ipynb#X44sZmlsZQ%3D%3D?line=23'>24</a>\u001b[0m     \u001b[39m#     experiment_config={\u001b[39;00m\n\u001b[1;32m     <a href='vscode-notebook-cell:/Users/Labi/V_env/ML_Orchestration/sagemaker/test_processor.ipynb#X44sZmlsZQ%3D%3D?line=24'>25</a>\u001b[0m     \u001b[39m#     'TrialName': trial.trial_name,\u001b[39;00m\n\u001b[1;32m     <a href='vscode-notebook-cell:/Users/Labi/V_env/ML_Orchestration/sagemaker/test_processor.ipynb#X44sZmlsZQ%3D%3D?line=25'>26</a>\u001b[0m     \u001b[39m#     'TrialComponentDisplayName': 'Training'\u001b[39;00m\n\u001b[1;32m     <a href='vscode-notebook-cell:/Users/Labi/V_env/ML_Orchestration/sagemaker/test_processor.ipynb#X44sZmlsZQ%3D%3D?line=26'>27</a>\u001b[0m     \u001b[39m# },\u001b[39;00m\n\u001b[1;32m     <a href='vscode-notebook-cell:/Users/Labi/V_env/ML_Orchestration/sagemaker/test_processor.ipynb#X44sZmlsZQ%3D%3D?line=27'>28</a>\u001b[0m     )\n",
      "File \u001b[0;32m~/.local/share/virtualenvs/env-I1MV0Xfu/lib/python3.9/site-packages/sagemaker/experiments/run.py:757\u001b[0m, in \u001b[0;36mRun.__exit__\u001b[0;34m(self, exc_type, exc_value, exc_traceback)\u001b[0m\n\u001b[1;32m    752\u001b[0m \u001b[39melse\u001b[39;00m:\n\u001b[1;32m    753\u001b[0m     \u001b[39mself\u001b[39m\u001b[39m.\u001b[39m_trial_component\u001b[39m.\u001b[39mstatus \u001b[39m=\u001b[39m _api_types\u001b[39m.\u001b[39mTrialComponentStatus(\n\u001b[1;32m    754\u001b[0m         primary_status\u001b[39m=\u001b[39m_TrialComponentStatusType\u001b[39m.\u001b[39mCompleted\u001b[39m.\u001b[39mvalue\n\u001b[1;32m    755\u001b[0m     )\n\u001b[0;32m--> 757\u001b[0m \u001b[39mself\u001b[39;49m\u001b[39m.\u001b[39;49mclose()\n",
      "File \u001b[0;32m~/.local/share/virtualenvs/env-I1MV0Xfu/lib/python3.9/site-packages/sagemaker/experiments/run.py:537\u001b[0m, in \u001b[0;36mRun.close\u001b[0;34m(self)\u001b[0m\n\u001b[1;32m    534\u001b[0m \u001b[39m\u001b[39m\u001b[39m\"\"\"Persist any data saved locally.\"\"\"\u001b[39;00m\n\u001b[1;32m    535\u001b[0m \u001b[39mtry\u001b[39;00m:\n\u001b[1;32m    536\u001b[0m     \u001b[39m# Update the trial component with additions from the Run object\u001b[39;00m\n\u001b[0;32m--> 537\u001b[0m     \u001b[39mself\u001b[39;49m\u001b[39m.\u001b[39;49m_trial_component\u001b[39m.\u001b[39;49msave()\n\u001b[1;32m    538\u001b[0m     \u001b[39m# Create Lineage entities for the artifacts\u001b[39;00m\n\u001b[1;32m    539\u001b[0m     \u001b[39mself\u001b[39m\u001b[39m.\u001b[39m_lineage_artifact_tracker\u001b[39m.\u001b[39msave()\n",
      "File \u001b[0;32m~/.local/share/virtualenvs/env-I1MV0Xfu/lib/python3.9/site-packages/sagemaker/experiments/trial_component.py:121\u001b[0m, in \u001b[0;36m_TrialComponent.save\u001b[0;34m(self)\u001b[0m\n\u001b[1;32m    119\u001b[0m \u001b[39mdef\u001b[39;00m \u001b[39msave\u001b[39m(\u001b[39mself\u001b[39m):\n\u001b[1;32m    120\u001b[0m \u001b[39m    \u001b[39m\u001b[39m\"\"\"Save the state of this TrialComponent to SageMaker.\"\"\"\u001b[39;00m\n\u001b[0;32m--> 121\u001b[0m     \u001b[39mreturn\u001b[39;00m \u001b[39mself\u001b[39;49m\u001b[39m.\u001b[39;49m_invoke_api(\u001b[39mself\u001b[39;49m\u001b[39m.\u001b[39;49m_boto_update_method, \u001b[39mself\u001b[39;49m\u001b[39m.\u001b[39;49m_boto_update_members)\n",
      "File \u001b[0;32m~/.local/share/virtualenvs/env-I1MV0Xfu/lib/python3.9/site-packages/sagemaker/apiutils/_base_types.py:226\u001b[0m, in \u001b[0;36mRecord._invoke_api\u001b[0;34m(self, boto_method, boto_method_members)\u001b[0m\n\u001b[1;32m    224\u001b[0m api_kwargs \u001b[39m=\u001b[39m \u001b[39mself\u001b[39m\u001b[39m.\u001b[39mto_boto(api_values)\n\u001b[1;32m    225\u001b[0m api_method \u001b[39m=\u001b[39m \u001b[39mgetattr\u001b[39m(\u001b[39mself\u001b[39m\u001b[39m.\u001b[39msagemaker_session\u001b[39m.\u001b[39msagemaker_client, boto_method)\n\u001b[0;32m--> 226\u001b[0m api_boto_response \u001b[39m=\u001b[39m api_method(\u001b[39m*\u001b[39;49m\u001b[39m*\u001b[39;49mapi_kwargs)\n\u001b[1;32m    227\u001b[0m \u001b[39mreturn\u001b[39;00m \u001b[39mself\u001b[39m\u001b[39m.\u001b[39mwith_boto(api_boto_response)\n",
      "File \u001b[0;32m~/.local/share/virtualenvs/env-I1MV0Xfu/lib/python3.9/site-packages/botocore/client.py:535\u001b[0m, in \u001b[0;36mClientCreator._create_api_method.<locals>._api_call\u001b[0;34m(self, *args, **kwargs)\u001b[0m\n\u001b[1;32m    531\u001b[0m     \u001b[39mraise\u001b[39;00m \u001b[39mTypeError\u001b[39;00m(\n\u001b[1;32m    532\u001b[0m         \u001b[39mf\u001b[39m\u001b[39m\"\u001b[39m\u001b[39m{\u001b[39;00mpy_operation_name\u001b[39m}\u001b[39;00m\u001b[39m() only accepts keyword arguments.\u001b[39m\u001b[39m\"\u001b[39m\n\u001b[1;32m    533\u001b[0m     )\n\u001b[1;32m    534\u001b[0m \u001b[39m# The \"self\" in this scope is referring to the BaseClient.\u001b[39;00m\n\u001b[0;32m--> 535\u001b[0m \u001b[39mreturn\u001b[39;00m \u001b[39mself\u001b[39;49m\u001b[39m.\u001b[39;49m_make_api_call(operation_name, kwargs)\n",
      "File \u001b[0;32m~/.local/share/virtualenvs/env-I1MV0Xfu/lib/python3.9/site-packages/botocore/client.py:980\u001b[0m, in \u001b[0;36mBaseClient._make_api_call\u001b[0;34m(self, operation_name, api_params)\u001b[0m\n\u001b[1;32m    978\u001b[0m     error_code \u001b[39m=\u001b[39m parsed_response\u001b[39m.\u001b[39mget(\u001b[39m\"\u001b[39m\u001b[39mError\u001b[39m\u001b[39m\"\u001b[39m, {})\u001b[39m.\u001b[39mget(\u001b[39m\"\u001b[39m\u001b[39mCode\u001b[39m\u001b[39m\"\u001b[39m)\n\u001b[1;32m    979\u001b[0m     error_class \u001b[39m=\u001b[39m \u001b[39mself\u001b[39m\u001b[39m.\u001b[39mexceptions\u001b[39m.\u001b[39mfrom_code(error_code)\n\u001b[0;32m--> 980\u001b[0m     \u001b[39mraise\u001b[39;00m error_class(parsed_response, operation_name)\n\u001b[1;32m    981\u001b[0m \u001b[39melse\u001b[39;00m:\n\u001b[1;32m    982\u001b[0m     \u001b[39mreturn\u001b[39;00m parsed_response\n",
      "\u001b[0;31mClientError\u001b[0m: An error occurred (ValidationException) when calling the UpdateTrialComponent operation: 2 validation errors detected: Value 'Error for Training job test-training1698284057: Failed. Reason: AlgorithmError: framework error: \nTraceback (most recent call last):\n  File \"/miniconda3/lib/python3.7/site-packages/sagemaker_containers/_trainer.py\", line 84, in train\n    entrypoint()\n  File \"/miniconda3/lib/python3.7/site-packages/sagemaker_sklearn_container/training.py\", line 39, in main\n    train(environment.Environment())\n  File \"/miniconda3/lib/python3.7/site-packages/sagemaker_sklearn_container/training.py\", line 35, in train\n    runner_type=runner.ProcessRunnerType)\n  File \"/miniconda3/lib/python3.7/site-packages/sagemaker_training/entry_point.py\", line 100, in run\n    wait, capture_error\n  File \"/miniconda3/lib/python3.7/site-packages/sagemaker_training/process.py\", line 291, in run\n    cwd=environment.code_dir,\n  File \"/miniconda3/lib/python3.7/site-packages/sagemaker_training/process.py\", line 208, in check_error\n    info=extra_info,\nsagemaker_training.errors.ExecuteUserScriptError: ExecuteUserScriptError:\nExitCode 1\nErrorMessage \"\"\nCommand \"/miniconda3/bin/python training_script.py\"\n\nExecuteUser' at 'status.message' failed to satisfy constraint: Member must have length less than or equal to 1024; Value 'Error for Training job test-training1698284057: Failed. Reason: AlgorithmError: framework error: \nTraceback (most recent call last):\n  File \"/miniconda3/lib/python3.7/site-packages/sagemaker_containers/_trainer.py\", line 84, in train\n    entrypoint()\n  File \"/miniconda3/lib/python3.7/site-packages/sagemaker_sklearn_container/training.py\", line 39, in main\n    train(environment.Environment())\n  File \"/miniconda3/lib/python3.7/site-packages/sagemaker_sklearn_container/training.py\", line 35, in train\n    runner_type=runner.ProcessRunnerType)\n  File \"/miniconda3/lib/python3.7/site-packages/sagemaker_training/entry_point.py\", line 100, in run\n    wait, capture_error\n  File \"/miniconda3/lib/python3.7/site-packages/sagemaker_training/process.py\", line 291, in run\n    cwd=environment.code_dir,\n  File \"/miniconda3/lib/python3.7/site-packages/sagemaker_training/process.py\", line 208, in check_error\n    info=extra_info,\nsagemaker_training.errors.ExecuteUserScriptError: ExecuteUserScriptError:\nExitCode 1\nErrorMessage \"\"\nCommand \"/miniconda3/bin/python training_script.py\"\n\nExecuteUser' at 'status.message' failed to satisfy constraint: Member must satisfy regular expression pattern: .*"
     ]
    }
   ],
   "source": [
    "with Run(experiment_name=experiment.experiment_name, run_name=f'check-run-{int(time.time())}') as run:\n",
    "    \n",
    "    estimator_parameters = {\n",
    "    \"entry_point\": \"training_script.py\",\n",
    "    # \"source_dir\": training_dir,\n",
    "    \"framework_version\": \"0.23-1\",\n",
    "    \"py_version\": \"py3\",\n",
    "    \"instance_type\": \"ml.m5.large\",\n",
    "    \"instance_count\": 1,\n",
    "    # \"hyperparameters\": hyperparameters,\n",
    "    \"role\": role,\n",
    "    \"base_job_name\": \"linearregression-model\",\n",
    "    \"use_spot_instances\": True,\n",
    "    \"max_wait\": 7200,\n",
    "    \"max_run\": 3600,\n",
    "    \"metric_definition\": metric_definition\n",
    "}\n",
    "\n",
    "    estimator = SKLearn(**estimator_parameters) \n",
    "\n",
    "    estimator.fit(\n",
    "        inputs,\n",
    "        job_name=f'test-training{int(time.time())}',\n",
    "    #     experiment_config={\n",
    "    #     'TrialName': trial.trial_name,\n",
    "    #     'TrialComponentDisplayName': 'Training'\n",
    "    # },\n",
    "    )"
   ]
  },
  {
   "cell_type": "code",
   "execution_count": 18,
   "metadata": {},
   "outputs": [
    {
     "name": "stdout",
     "output_type": "stream",
     "text": [
      "sagemaker.config INFO - Not applying SDK defaults from location: /Library/Application Support/sagemaker/config.yaml\n",
      "sagemaker.config INFO - Not applying SDK defaults from location: /Users/Labi/Library/Application Support/sagemaker/config.yaml\n"
     ]
    },
    {
     "data": {
      "text/html": [
       "<div>\n",
       "<style scoped>\n",
       "    .dataframe tbody tr th:only-of-type {\n",
       "        vertical-align: middle;\n",
       "    }\n",
       "\n",
       "    .dataframe tbody tr th {\n",
       "        vertical-align: top;\n",
       "    }\n",
       "\n",
       "    .dataframe thead th {\n",
       "        text-align: right;\n",
       "    }\n",
       "</style>\n",
       "<table border=\"1\" class=\"dataframe\">\n",
       "  <thead>\n",
       "    <tr style=\"text-align: right;\">\n",
       "      <th></th>\n",
       "      <th>TrialComponentName</th>\n",
       "      <th>DisplayName</th>\n",
       "      <th>SourceArn</th>\n",
       "      <th>SageMaker.ImageUri</th>\n",
       "      <th>SageMaker.InstanceCount</th>\n",
       "      <th>SageMaker.InstanceType</th>\n",
       "      <th>SageMaker.VolumeSizeInGB</th>\n",
       "      <th>sagemaker_container_log_level</th>\n",
       "      <th>sagemaker_job_name</th>\n",
       "      <th>sagemaker_program</th>\n",
       "      <th>...</th>\n",
       "      <th>test - MediaType</th>\n",
       "      <th>test - Value</th>\n",
       "      <th>train - MediaType</th>\n",
       "      <th>train - Value</th>\n",
       "      <th>SageMaker.DebugHookOutput - MediaType</th>\n",
       "      <th>SageMaker.DebugHookOutput - Value</th>\n",
       "      <th>SageMaker.ModelArtifact - MediaType</th>\n",
       "      <th>SageMaker.ModelArtifact - Value</th>\n",
       "      <th>Trials</th>\n",
       "      <th>Experiments</th>\n",
       "    </tr>\n",
       "  </thead>\n",
       "  <tbody>\n",
       "    <tr>\n",
       "      <th>0</th>\n",
       "      <td>test-training1698275776-aws-training-job</td>\n",
       "      <td>Training</td>\n",
       "      <td>arn:aws:sagemaker:us-east-1:928389782162:train...</td>\n",
       "      <td>683313688378.dkr.ecr.us-east-1.amazonaws.com/s...</td>\n",
       "      <td>1.0</td>\n",
       "      <td>ml.m5.large</td>\n",
       "      <td>30.0</td>\n",
       "      <td>20.0</td>\n",
       "      <td>\"test-training1698275776\"</td>\n",
       "      <td>\"training_script.py\"</td>\n",
       "      <td>...</td>\n",
       "      <td>None</td>\n",
       "      <td>s3://sagemaker-practice-bucket-nuga/fitness_pr...</td>\n",
       "      <td>None</td>\n",
       "      <td>s3://sagemaker-practice-bucket-nuga/fitness_pr...</td>\n",
       "      <td>None</td>\n",
       "      <td>s3://sagemaker-us-east-1-928389782162/</td>\n",
       "      <td>None</td>\n",
       "      <td>s3://sagemaker-us-east-1-928389782162/test-tra...</td>\n",
       "      <td>[trial-1698275771]</td>\n",
       "      <td>[test-training-1698275683]</td>\n",
       "    </tr>\n",
       "  </tbody>\n",
       "</table>\n",
       "<p>1 rows × 22 columns</p>\n",
       "</div>"
      ],
      "text/plain": [
       "                         TrialComponentName DisplayName  \\\n",
       "0  test-training1698275776-aws-training-job    Training   \n",
       "\n",
       "                                           SourceArn  \\\n",
       "0  arn:aws:sagemaker:us-east-1:928389782162:train...   \n",
       "\n",
       "                                  SageMaker.ImageUri  SageMaker.InstanceCount  \\\n",
       "0  683313688378.dkr.ecr.us-east-1.amazonaws.com/s...                      1.0   \n",
       "\n",
       "  SageMaker.InstanceType  SageMaker.VolumeSizeInGB  \\\n",
       "0            ml.m5.large                      30.0   \n",
       "\n",
       "   sagemaker_container_log_level         sagemaker_job_name  \\\n",
       "0                           20.0  \"test-training1698275776\"   \n",
       "\n",
       "      sagemaker_program  ... test - MediaType  \\\n",
       "0  \"training_script.py\"  ...             None   \n",
       "\n",
       "                                        test - Value train - MediaType  \\\n",
       "0  s3://sagemaker-practice-bucket-nuga/fitness_pr...              None   \n",
       "\n",
       "                                       train - Value  \\\n",
       "0  s3://sagemaker-practice-bucket-nuga/fitness_pr...   \n",
       "\n",
       "  SageMaker.DebugHookOutput - MediaType  \\\n",
       "0                                  None   \n",
       "\n",
       "        SageMaker.DebugHookOutput - Value SageMaker.ModelArtifact - MediaType  \\\n",
       "0  s3://sagemaker-us-east-1-928389782162/                                None   \n",
       "\n",
       "                     SageMaker.ModelArtifact - Value              Trials  \\\n",
       "0  s3://sagemaker-us-east-1-928389782162/test-tra...  [trial-1698275771]   \n",
       "\n",
       "                  Experiments  \n",
       "0  [test-training-1698275683]  \n",
       "\n",
       "[1 rows x 22 columns]"
      ]
     },
     "execution_count": 18,
     "metadata": {},
     "output_type": "execute_result"
    }
   ],
   "source": [
    "experiment_analytics = ExperimentAnalytics(\n",
    "    experiment_name=experiment.experiment_name\n",
    ")\n",
    "experiment_analytics.dataframe()"
   ]
  },
  {
   "cell_type": "code",
   "execution_count": null,
   "metadata": {},
   "outputs": [],
   "source": []
  },
  {
   "cell_type": "code",
   "execution_count": null,
   "metadata": {},
   "outputs": [],
   "source": []
  },
  {
   "cell_type": "code",
   "execution_count": null,
   "metadata": {},
   "outputs": [],
   "source": []
  },
  {
   "cell_type": "code",
   "execution_count": null,
   "metadata": {},
   "outputs": [],
   "source": [
    "!aws s3 cp --quite s3://{bucket}/fitness_project/data/train/"
   ]
  },
  {
   "cell_type": "code",
   "execution_count": 55,
   "metadata": {},
   "outputs": [
    {
     "name": "stdout",
     "output_type": "stream",
     "text": [
      "                           PRE train/\n"
     ]
    }
   ],
   "source": [
    "!aws s3 ls s3://{bucket}/fitness_project/data/train"
   ]
  },
  {
   "cell_type": "code",
   "execution_count": 138,
   "metadata": {},
   "outputs": [],
   "source": [
    "\n",
    "\n"
   ]
  }
 ],
 "metadata": {
  "kernelspec": {
   "display_name": "env-I1MV0Xfu",
   "language": "python",
   "name": "python3"
  },
  "language_info": {
   "codemirror_mode": {
    "name": "ipython",
    "version": 3
   },
   "file_extension": ".py",
   "mimetype": "text/x-python",
   "name": "python",
   "nbconvert_exporter": "python",
   "pygments_lexer": "ipython3",
   "version": "3.9.12"
  }
 },
 "nbformat": 4,
 "nbformat_minor": 2
}
